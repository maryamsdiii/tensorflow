{
  "nbformat": 4,
  "nbformat_minor": 5,
  "metadata": {
    "kernelspec": {
      "display_name": "Python 3",
      "language": "python",
      "name": "python3"
    },
    "language_info": {
      "codemirror_mode": {
        "name": "ipython",
        "version": 3
      },
      "file_extension": ".py",
      "mimetype": "text/x-python",
      "name": "python",
      "nbconvert_exporter": "python",
      "pygments_lexer": "ipython3",
      "version": "3.8.5"
    },
    "colab": {
      "name": "Copy_of_Tensorflow_1_XX_Toturial_Example (1).ipynb",
      "provenance": [],
      "collapsed_sections": []
    }
  },
  "cells": [
    {
      "cell_type": "markdown",
      "metadata": {
        "id": "SIyXY-mPkQdo"
      },
      "source": [
        "# ===================================================================\n",
        "# **TENSORFLOW 1.XX  TOTURIAL - Example**\n",
        "* This notebook implement MLP network on MNIST datasets!\n",
        "* Written by **Alireza Khodabakhsh**\n",
        "* alireza.khodabakhsh@ee.sharif.edu\n",
        "* Aban 1400, October 2021\n",
        "# ==================================================================="
      ],
      "id": "SIyXY-mPkQdo"
    },
    {
      "cell_type": "code",
      "metadata": {
        "colab": {
          "base_uri": "https://localhost:8080/"
        },
        "id": "3cHNqJILe8cs",
        "outputId": "df2bc1a6-3a65-4b09-ed16-59668be523d1"
      },
      "source": [
        "from google.colab import drive\n",
        "drive.mount('/content/drive')"
      ],
      "id": "3cHNqJILe8cs",
      "execution_count": null,
      "outputs": [
        {
          "output_type": "stream",
          "name": "stdout",
          "text": [
            "Drive already mounted at /content/drive; to attempt to forcibly remount, call drive.mount(\"/content/drive\", force_remount=True).\n"
          ]
        }
      ]
    },
    {
      "cell_type": "code",
      "metadata": {
        "colab": {
          "base_uri": "https://localhost:8080/"
        },
        "id": "QMFc9cNXi6p9",
        "outputId": "ee990864-248f-4a7b-ad53-cfe3527f801a"
      },
      "source": [
        "!pip install rarfile"
      ],
      "id": "QMFc9cNXi6p9",
      "execution_count": null,
      "outputs": [
        {
          "output_type": "stream",
          "name": "stdout",
          "text": [
            "Requirement already satisfied: rarfile in /usr/local/lib/python3.7/dist-packages (4.0)\n"
          ]
        }
      ]
    },
    {
      "cell_type": "markdown",
      "metadata": {
        "id": "NoM644-PlTLM"
      },
      "source": [
        "# 1. import library"
      ],
      "id": "NoM644-PlTLM"
    },
    {
      "cell_type": "code",
      "metadata": {
        "id": "27bc5e71",
        "colab": {
          "base_uri": "https://localhost:8080/"
        },
        "outputId": "923cb0a2-d44d-43f0-d7b6-ac21c63cded8"
      },
      "source": [
        "import tensorflow as tf\n",
        "import tensorflow.compat.v1 as tf\n",
        "tf.disable_v2_behavior()\n",
        "import math\n",
        "import matplotlib.pyplot as plt\n",
        "import numpy as np\n",
        "import rarfile\n",
        "import pandas as pd\n",
        "from numpy.random import RandomState\n"
      ],
      "id": "27bc5e71",
      "execution_count": null,
      "outputs": [
        {
          "output_type": "stream",
          "name": "stdout",
          "text": [
            "WARNING:tensorflow:From /usr/local/lib/python3.7/dist-packages/tensorflow/python/compat/v2_compat.py:101: disable_resource_variables (from tensorflow.python.ops.variable_scope) is deprecated and will be removed in a future version.\n",
            "Instructions for updating:\n",
            "non-resource variables are not supported in the long term\n"
          ]
        }
      ]
    },
    {
      "cell_type": "markdown",
      "metadata": {
        "id": "wbmjJjCMlZ7F"
      },
      "source": [
        "# 2. import Dataset"
      ],
      "id": "wbmjJjCMlZ7F"
    },
    {
      "cell_type": "markdown",
      "metadata": {
        "id": "nVZ6z-e2le9W"
      },
      "source": [
        "# 3. Train/Test/Valid & One Hot"
      ],
      "id": "nVZ6z-e2le9W"
    },
    {
      "cell_type": "code",
      "metadata": {
        "id": "07d96546"
      },
      "source": [
        "df1 = pd.read_csv('/content/drive/MyDrive/Q1_train.csv')\n",
        "df2 = pd.read_csv('/content/drive/MyDrive/Q1_test.csv')\n",
        "rng = RandomState()\n",
        "\n",
        "train = df1.sample(frac=0.7, random_state=rng)\n",
        "valid = df1.loc[~df1.index.isin(train.index)]\n",
        "\n",
        "num_valid=valid.shape[0]\n",
        "num_train=train.shape[0]\n",
        "\n",
        "x_test=df2.iloc[:,1:]\n",
        "x_test = np.array(x_test, dtype='uint32')/255\n",
        "y_test=df2.iloc[:,0]\n",
        "\n",
        "y_train=train.iloc[:,0]\n",
        "x_train =train.iloc[:,1:]\n",
        "x_train = np.array(x_train, dtype='uint32')/255\n",
        "\n",
        "y_valid=valid.iloc[:,0]\n",
        "x_valid =valid.iloc[:,1:]\n",
        "x_valid = np.array(x_valid, dtype='uint32')/255\n",
        "\n",
        "y_train_hot=tf.Session().run(tf.one_hot(y_train,25))\n",
        "y_valid_hot=tf.Session().run(tf.one_hot(y_valid,25))\n",
        "y_test_hot=tf.Session().run(tf.one_hot(y_test,25))\n",
        "tf.Session().close()"
      ],
      "id": "07d96546",
      "execution_count": null,
      "outputs": []
    },
    {
      "cell_type": "markdown",
      "metadata": {
        "id": "1IvPKPZKlqG3"
      },
      "source": [
        "# 4. Shuffle"
      ],
      "id": "1IvPKPZKlqG3"
    },
    {
      "cell_type": "code",
      "metadata": {
        "id": "397d3090"
      },
      "source": [
        "x_train_shaffle=tf.Session().run(tf.random.shuffle(x_train, seed=12321 ))\n",
        "y_train_shaffle=tf.Session().run(tf.random.shuffle(y_train_hot, seed=12321))"
      ],
      "id": "397d3090",
      "execution_count": null,
      "outputs": []
    },
    {
      "cell_type": "markdown",
      "metadata": {
        "id": "8pq2utgllvOH"
      },
      "source": [
        "# 5. HyperParameters"
      ],
      "id": "8pq2utgllvOH"
    },
    {
      "cell_type": "code",
      "metadata": {
        "id": "0f25ec91"
      },
      "source": [
        "num_feature=x_train.shape[1]\n",
        "num_class=25\n",
        "rl=0.001\n",
        "batchsize=100\n",
        "normal_std=0.001"
      ],
      "id": "0f25ec91",
      "execution_count": null,
      "outputs": []
    },
    {
      "cell_type": "markdown",
      "metadata": {
        "id": "f1bjOVazl4LH"
      },
      "source": [
        "# 6. Functions that we'll need"
      ],
      "id": "f1bjOVazl4LH"
    },
    {
      "cell_type": "code",
      "metadata": {
        "id": "534d2811"
      },
      "source": [
        "def WEIGHTS(shape, name) :\n",
        "    return tf.get_variable(dtype=tf.float32, shape=shape,name='W_'+name,\n",
        "                  initializer=tf.truncated_normal_initializer(stddev=0.001))"
      ],
      "id": "534d2811",
      "execution_count": null,
      "outputs": []
    },
    {
      "cell_type": "code",
      "metadata": {
        "id": "3cf93efe"
      },
      "source": [
        "def BIAS (shape, name):\n",
        "    return tf.get_variable(dtype=tf.float32, shape=(shape) , name='B_'+name,\n",
        "                  initializer=tf.zeros_initializer())"
      ],
      "id": "3cf93efe",
      "execution_count": null,
      "outputs": []
    },
    {
      "cell_type": "code",
      "metadata": {
        "id": "1e7ba6bf"
      },
      "source": [
        "def FC(X, num_units, name, relu=False):\n",
        "    in_dim=X.get_shape()[1]\n",
        "    W=WEIGHTS((in_dim, num_units), name)\n",
        "    B=BIAS ((num_units), name)\n",
        "    H=tf.matmul(X,W)\n",
        "    O=tf.add(H,B)\n",
        "    if relu==True:\n",
        "        return tf.nn.relu(O)\n",
        "    return O,W"
      ],
      "id": "1e7ba6bf",
      "execution_count": null,
      "outputs": []
    },
    {
      "cell_type": "markdown",
      "metadata": {
        "id": "2w3OXWaYmDVm"
      },
      "source": [
        "# 7. Neural Network ( Graph Phase )"
      ],
      "id": "2w3OXWaYmDVm"
    },
    {
      "cell_type": "code",
      "metadata": {
        "id": "5289569e"
      },
      "source": [
        "tf.reset_default_graph()\n",
        "input_image=tf.placeholder(dtype=tf.float32, shape=(None,num_feature),\n",
        "                           name='INPUT')\n",
        "\n",
        "\n",
        "FC1=FC(input_image, 512, 'FC1', relu=True)\n",
        "\n",
        "H2=FC(FC1, 25, 'FC2', relu=False)\n",
        "\n",
        "output_image=tf.placeholder(dtype=tf.float32, shape=(None, num_class),\n",
        "                           name='OUTPUT')"
      ],
      "id": "5289569e",
      "execution_count": null,
      "outputs": []
    },
    {
      "cell_type": "markdown",
      "metadata": {
        "id": "9QyeX0PemRRA"
      },
      "source": [
        "# 8. Neural Network ( Graph Phase ) - Optimization "
      ],
      "id": "9QyeX0PemRRA"
    },
    {
      "cell_type": "code",
      "metadata": {
        "id": "a0b7d770",
        "colab": {
          "base_uri": "https://localhost:8080/"
        },
        "outputId": "234a4222-260d-4d09-a74f-83eaf201955a"
      },
      "source": [
        "loss= tf.reduce_mean(tf.nn.softmax_cross_entropy_with_logits(labels=output_image, logits= H2,\n",
        "                                            name='LOSS'))\n",
        "adam=tf.train.AdamOptimizer (\n",
        "    learning_rate=rl, name='Adam'\n",
        ").minimize(loss)\n",
        "\n",
        "sgd=tf.train.GradientDescentOptimizer (\n",
        "    learning_rate=rl, name='SGD'\n",
        ").minimize(loss)\n",
        "\n",
        "accuracy=tf.reduce_mean(tf.cast(tf.math.equal(tf.argmax(H2,axis=1),tf.argmax(output_image,axis=1)),dtype=tf.float32))\n",
        "find_misclass=tf.where(tf.math.logical_not(tf.math.equal(tf.argmax(H2,axis=1),tf.argmax(output_image,axis=1))))\n",
        "\n"
      ],
      "id": "a0b7d770",
      "execution_count": null,
      "outputs": [
        {
          "output_type": "stream",
          "name": "stdout",
          "text": [
            "WARNING:tensorflow:From /usr/local/lib/python3.7/dist-packages/tensorflow/python/util/dispatch.py:206: softmax_cross_entropy_with_logits (from tensorflow.python.ops.nn_ops) is deprecated and will be removed in a future version.\n",
            "Instructions for updating:\n",
            "\n",
            "Future major versions of TensorFlow will allow gradients to flow\n",
            "into the labels input on backprop by default.\n",
            "\n",
            "See `tf.nn.softmax_cross_entropy_with_logits_v2`.\n",
            "\n"
          ]
        }
      ]
    },
    {
      "cell_type": "markdown",
      "metadata": {
        "id": "Wpv4EfwuoEow"
      },
      "source": [
        "# 9. Neural Network ( Session Phase )  with adam optimizer"
      ],
      "id": "Wpv4EfwuoEow"
    },
    {
      "cell_type": "code",
      "metadata": {
        "scrolled": true,
        "id": "a1deee0c",
        "colab": {
          "base_uri": "https://localhost:8080/"
        },
        "outputId": "2d0e1295-ca7e-46a0-a0a3-6f90cfdd05e5"
      },
      "source": [
        "plot_valid_loss=[]\n",
        "plot_valid_accuracy=[]\n",
        "plot_train_loss=[]\n",
        "plot_train_accuracy=[]\n",
        "sess = tf.InteractiveSession()\n",
        "sess.run(tf.global_variables_initializer())\n",
        "\n",
        "loss_tb= tf.summary.scalar('LOSS_TENSORBOARD' ,loss)\n",
        "accuracy_tb= tf.summary.scalar('accuracy_TENSORBOARD' ,accuracy)\n",
        "write = tf.summary.FileWriter('./graphs', sess.graph)\n",
        "\n",
        "for epoch in range(30):\n",
        "    print('==================================================')\n",
        "    print('====== Epoch=%s =================================== ' %(epoch))\n",
        "    print('==================================================')\n",
        "    for i in range(math.floor(num_train/batchsize)):\n",
        "        f={input_image:x_train_shaffle[i*batchsize : (i+1)*batchsize] , \n",
        "          output_image:y_train_shaffle[i*batchsize : (i+1)*batchsize] }\n",
        "        \n",
        "        sess.run(adam,feed_dict=f)\n",
        "        #write.add_summary(sess.run(loss_tb),epoch)\n",
        "        if i%100==0:\n",
        "          print('iter {}: \\t Loss={:.2f} \\t training accuracy={:.2f} '.format(i,sess.run(loss,feed_dict=f),sess.run(accuracy,feed_dict=f)))\n",
        "    plot_train_loss.append(sess.run(loss,feed_dict=f))\n",
        "    plot_train_accuracy.append(sess.run(accuracy,feed_dict=f))\n",
        "    f_valid={input_image:x_valid , \n",
        "            output_image:y_valid_hot}\n",
        "    \n",
        "    \n",
        "\n",
        "    print('--------------------------------------------------')\n",
        "    print('Epoch:{} \\t Validation Loss:{:.2f} \\t validation accuracy={:.2f}'.format(epoch,sess.run(loss,feed_dict=f_valid),sess.run(accuracy,feed_dict=f_valid)))\n",
        "    print('--------------------------------------------------')\n",
        "    plot_valid_loss.append(sess.run(loss,feed_dict=f_valid))\n",
        "    plot_valid_accuracy.append(sess.run(accuracy,feed_dict=f_valid))\n",
        "\n",
        "\n"
      ],
      "id": "a1deee0c",
      "execution_count": null,
      "outputs": [
        {
          "output_type": "stream",
          "name": "stdout",
          "text": [
            "==================================================\n",
            "====== Epoch=0 =================================== \n",
            "==================================================\n",
            "iter 0: \t Loss=3.19 \t training accuracy=0.08 \n",
            "iter 100: \t Loss=2.60 \t training accuracy=0.19 \n",
            "--------------------------------------------------\n",
            "Epoch:0 \t Validation Loss:2.03 \t validation accuracy=0.34\n",
            "--------------------------------------------------\n",
            "==================================================\n",
            "====== Epoch=1 =================================== \n",
            "==================================================\n",
            "iter 0: \t Loss=2.06 \t training accuracy=0.39 \n",
            "iter 100: \t Loss=1.89 \t training accuracy=0.44 \n",
            "--------------------------------------------------\n",
            "Epoch:1 \t Validation Loss:1.56 \t validation accuracy=0.50\n",
            "--------------------------------------------------\n",
            "==================================================\n",
            "====== Epoch=2 =================================== \n",
            "==================================================\n",
            "iter 0: \t Loss=1.62 \t training accuracy=0.51 \n",
            "iter 100: \t Loss=1.53 \t training accuracy=0.48 \n",
            "--------------------------------------------------\n",
            "Epoch:2 \t Validation Loss:1.31 \t validation accuracy=0.58\n",
            "--------------------------------------------------\n",
            "==================================================\n",
            "====== Epoch=3 =================================== \n",
            "==================================================\n",
            "iter 0: \t Loss=1.37 \t training accuracy=0.60 \n",
            "iter 100: \t Loss=1.30 \t training accuracy=0.53 \n",
            "--------------------------------------------------\n",
            "Epoch:3 \t Validation Loss:1.14 \t validation accuracy=0.64\n",
            "--------------------------------------------------\n",
            "==================================================\n",
            "====== Epoch=4 =================================== \n",
            "==================================================\n",
            "iter 0: \t Loss=1.21 \t training accuracy=0.63 \n",
            "iter 100: \t Loss=1.14 \t training accuracy=0.65 \n",
            "--------------------------------------------------\n",
            "Epoch:4 \t Validation Loss:1.01 \t validation accuracy=0.67\n",
            "--------------------------------------------------\n",
            "==================================================\n",
            "====== Epoch=5 =================================== \n",
            "==================================================\n",
            "iter 0: \t Loss=1.07 \t training accuracy=0.66 \n",
            "iter 100: \t Loss=1.02 \t training accuracy=0.73 \n",
            "--------------------------------------------------\n",
            "Epoch:5 \t Validation Loss:0.90 \t validation accuracy=0.70\n",
            "--------------------------------------------------\n",
            "==================================================\n",
            "====== Epoch=6 =================================== \n",
            "==================================================\n",
            "iter 0: \t Loss=0.93 \t training accuracy=0.68 \n",
            "iter 100: \t Loss=0.92 \t training accuracy=0.76 \n",
            "--------------------------------------------------\n",
            "Epoch:6 \t Validation Loss:0.80 \t validation accuracy=0.74\n",
            "--------------------------------------------------\n",
            "==================================================\n",
            "====== Epoch=7 =================================== \n",
            "==================================================\n",
            "iter 0: \t Loss=0.81 \t training accuracy=0.73 \n",
            "iter 100: \t Loss=0.81 \t training accuracy=0.79 \n",
            "--------------------------------------------------\n",
            "Epoch:7 \t Validation Loss:0.72 \t validation accuracy=0.77\n",
            "--------------------------------------------------\n",
            "==================================================\n",
            "====== Epoch=8 =================================== \n",
            "==================================================\n",
            "iter 0: \t Loss=0.72 \t training accuracy=0.76 \n",
            "iter 100: \t Loss=0.72 \t training accuracy=0.81 \n",
            "--------------------------------------------------\n",
            "Epoch:8 \t Validation Loss:0.65 \t validation accuracy=0.79\n",
            "--------------------------------------------------\n",
            "==================================================\n",
            "====== Epoch=9 =================================== \n",
            "==================================================\n",
            "iter 0: \t Loss=0.64 \t training accuracy=0.79 \n",
            "iter 100: \t Loss=0.63 \t training accuracy=0.82 \n",
            "--------------------------------------------------\n",
            "Epoch:9 \t Validation Loss:0.59 \t validation accuracy=0.81\n",
            "--------------------------------------------------\n",
            "==================================================\n",
            "====== Epoch=10 =================================== \n",
            "==================================================\n",
            "iter 0: \t Loss=0.58 \t training accuracy=0.81 \n",
            "iter 100: \t Loss=0.56 \t training accuracy=0.84 \n",
            "--------------------------------------------------\n",
            "Epoch:10 \t Validation Loss:0.53 \t validation accuracy=0.83\n",
            "--------------------------------------------------\n",
            "==================================================\n",
            "====== Epoch=11 =================================== \n",
            "==================================================\n",
            "iter 0: \t Loss=0.52 \t training accuracy=0.84 \n",
            "iter 100: \t Loss=0.49 \t training accuracy=0.88 \n",
            "--------------------------------------------------\n",
            "Epoch:11 \t Validation Loss:0.48 \t validation accuracy=0.85\n",
            "--------------------------------------------------\n",
            "==================================================\n",
            "====== Epoch=12 =================================== \n",
            "==================================================\n",
            "iter 0: \t Loss=0.47 \t training accuracy=0.86 \n",
            "iter 100: \t Loss=0.43 \t training accuracy=0.90 \n",
            "--------------------------------------------------\n",
            "Epoch:12 \t Validation Loss:0.43 \t validation accuracy=0.86\n",
            "--------------------------------------------------\n",
            "==================================================\n",
            "====== Epoch=13 =================================== \n",
            "==================================================\n",
            "iter 0: \t Loss=0.42 \t training accuracy=0.87 \n",
            "iter 100: \t Loss=0.37 \t training accuracy=0.91 \n",
            "--------------------------------------------------\n",
            "Epoch:13 \t Validation Loss:0.39 \t validation accuracy=0.88\n",
            "--------------------------------------------------\n",
            "==================================================\n",
            "====== Epoch=14 =================================== \n",
            "==================================================\n",
            "iter 0: \t Loss=0.38 \t training accuracy=0.89 \n",
            "iter 100: \t Loss=0.32 \t training accuracy=0.92 \n",
            "--------------------------------------------------\n",
            "Epoch:14 \t Validation Loss:0.35 \t validation accuracy=0.89\n",
            "--------------------------------------------------\n",
            "==================================================\n",
            "====== Epoch=15 =================================== \n",
            "==================================================\n",
            "iter 0: \t Loss=0.34 \t training accuracy=0.91 \n",
            "iter 100: \t Loss=0.28 \t training accuracy=0.92 \n",
            "--------------------------------------------------\n",
            "Epoch:15 \t Validation Loss:0.32 \t validation accuracy=0.90\n",
            "--------------------------------------------------\n",
            "==================================================\n",
            "====== Epoch=16 =================================== \n",
            "==================================================\n",
            "iter 0: \t Loss=0.30 \t training accuracy=0.91 \n",
            "iter 100: \t Loss=0.24 \t training accuracy=0.93 \n",
            "--------------------------------------------------\n",
            "Epoch:16 \t Validation Loss:0.28 \t validation accuracy=0.91\n",
            "--------------------------------------------------\n",
            "==================================================\n",
            "====== Epoch=17 =================================== \n",
            "==================================================\n",
            "iter 0: \t Loss=0.27 \t training accuracy=0.94 \n",
            "iter 100: \t Loss=0.21 \t training accuracy=0.94 \n",
            "--------------------------------------------------\n",
            "Epoch:17 \t Validation Loss:0.26 \t validation accuracy=0.92\n",
            "--------------------------------------------------\n",
            "==================================================\n",
            "====== Epoch=18 =================================== \n",
            "==================================================\n",
            "iter 0: \t Loss=0.24 \t training accuracy=0.94 \n",
            "iter 100: \t Loss=0.18 \t training accuracy=0.95 \n",
            "--------------------------------------------------\n",
            "Epoch:18 \t Validation Loss:0.23 \t validation accuracy=0.93\n",
            "--------------------------------------------------\n",
            "==================================================\n",
            "====== Epoch=19 =================================== \n",
            "==================================================\n",
            "iter 0: \t Loss=0.21 \t training accuracy=0.95 \n",
            "iter 100: \t Loss=0.16 \t training accuracy=0.95 \n",
            "--------------------------------------------------\n",
            "Epoch:19 \t Validation Loss:0.21 \t validation accuracy=0.94\n",
            "--------------------------------------------------\n",
            "==================================================\n",
            "====== Epoch=20 =================================== \n",
            "==================================================\n",
            "iter 0: \t Loss=0.19 \t training accuracy=0.96 \n",
            "iter 100: \t Loss=0.14 \t training accuracy=0.96 \n",
            "--------------------------------------------------\n",
            "Epoch:20 \t Validation Loss:0.19 \t validation accuracy=0.94\n",
            "--------------------------------------------------\n",
            "==================================================\n",
            "====== Epoch=21 =================================== \n",
            "==================================================\n",
            "iter 0: \t Loss=0.17 \t training accuracy=0.96 \n",
            "iter 100: \t Loss=0.12 \t training accuracy=0.97 \n",
            "--------------------------------------------------\n",
            "Epoch:21 \t Validation Loss:0.17 \t validation accuracy=0.95\n",
            "--------------------------------------------------\n",
            "==================================================\n",
            "====== Epoch=22 =================================== \n",
            "==================================================\n",
            "iter 0: \t Loss=0.15 \t training accuracy=0.97 \n",
            "iter 100: \t Loss=0.10 \t training accuracy=0.99 \n",
            "--------------------------------------------------\n",
            "Epoch:22 \t Validation Loss:0.15 \t validation accuracy=0.96\n",
            "--------------------------------------------------\n",
            "==================================================\n",
            "====== Epoch=23 =================================== \n",
            "==================================================\n",
            "iter 0: \t Loss=0.13 \t training accuracy=0.97 \n",
            "iter 100: \t Loss=0.09 \t training accuracy=0.99 \n",
            "--------------------------------------------------\n",
            "Epoch:23 \t Validation Loss:0.14 \t validation accuracy=0.96\n",
            "--------------------------------------------------\n",
            "==================================================\n",
            "====== Epoch=24 =================================== \n",
            "==================================================\n",
            "iter 0: \t Loss=0.11 \t training accuracy=0.98 \n",
            "iter 100: \t Loss=0.08 \t training accuracy=0.99 \n",
            "--------------------------------------------------\n",
            "Epoch:24 \t Validation Loss:0.12 \t validation accuracy=0.97\n",
            "--------------------------------------------------\n",
            "==================================================\n",
            "====== Epoch=25 =================================== \n",
            "==================================================\n",
            "iter 0: \t Loss=0.09 \t training accuracy=0.99 \n",
            "iter 100: \t Loss=0.07 \t training accuracy=0.99 \n",
            "--------------------------------------------------\n",
            "Epoch:25 \t Validation Loss:0.11 \t validation accuracy=0.97\n",
            "--------------------------------------------------\n",
            "==================================================\n",
            "====== Epoch=26 =================================== \n",
            "==================================================\n",
            "iter 0: \t Loss=0.08 \t training accuracy=1.00 \n",
            "iter 100: \t Loss=0.07 \t training accuracy=0.99 \n",
            "--------------------------------------------------\n",
            "Epoch:26 \t Validation Loss:0.10 \t validation accuracy=0.98\n",
            "--------------------------------------------------\n",
            "==================================================\n",
            "====== Epoch=27 =================================== \n",
            "==================================================\n",
            "iter 0: \t Loss=0.07 \t training accuracy=1.00 \n",
            "iter 100: \t Loss=0.06 \t training accuracy=0.99 \n",
            "--------------------------------------------------\n",
            "Epoch:27 \t Validation Loss:0.08 \t validation accuracy=0.98\n",
            "--------------------------------------------------\n",
            "==================================================\n",
            "====== Epoch=28 =================================== \n",
            "==================================================\n",
            "iter 0: \t Loss=0.06 \t training accuracy=1.00 \n",
            "iter 100: \t Loss=0.05 \t training accuracy=0.99 \n",
            "--------------------------------------------------\n",
            "Epoch:28 \t Validation Loss:0.07 \t validation accuracy=0.99\n",
            "--------------------------------------------------\n",
            "==================================================\n",
            "====== Epoch=29 =================================== \n",
            "==================================================\n",
            "iter 0: \t Loss=0.06 \t training accuracy=1.00 \n",
            "iter 100: \t Loss=0.05 \t training accuracy=1.00 \n",
            "--------------------------------------------------\n",
            "Epoch:29 \t Validation Loss:0.06 \t validation accuracy=0.99\n",
            "--------------------------------------------------\n"
          ]
        }
      ]
    },
    {
      "cell_type": "code",
      "metadata": {
        "colab": {
          "base_uri": "https://localhost:8080/",
          "height": 294
        },
        "id": "ZL0u_LY222I9",
        "outputId": "2aaee5b2-e24e-48e3-cd1f-306ed4000944"
      },
      "source": [
        "plt.plot(range(epoch+1),plot_valid_loss,label='validation loss', color='b',LineWidth=3)\n",
        "plt.plot(range(epoch+1),plot_train_loss,label='train loss', color='r',LineWidth=3)\n",
        "plt.title(\"Change in Loss with adam optimizer\")\n",
        "plt.xlabel('epochs')\n",
        "plt.ylabel('loss')\n",
        "plt.legend()\n",
        "plt.grid()\n",
        "plt.show()"
      ],
      "id": "ZL0u_LY222I9",
      "execution_count": null,
      "outputs": [
        {
          "output_type": "display_data",
          "data": {
            "image/png": "[encoded data removed]",
            "text/plain": [
              "<Figure size 432x288 with 1 Axes>"
            ]
          },
          "metadata": {
            "needs_background": "light"
          }
        }
      ]
    },
    {
      "cell_type": "code",
      "metadata": {
        "colab": {
          "base_uri": "https://localhost:8080/",
          "height": 294
        },
        "id": "cjBbixWM25ec",
        "outputId": "1bcbb931-6ddb-4386-98d7-f26f7d9c9673"
      },
      "source": [
        "plt.plot(range(epoch+1),plot_valid_accuracy,label='validation accuracy', color='b',LineWidth=3)\n",
        "plt.plot(range(epoch+1),plot_train_accuracy,label='train accuracy', color='r',LineWidth=3)\n",
        "plt.title(\"Change in accuracy with adam optimizer\")\n",
        "plt.xlabel('epochs')\n",
        "plt.ylabel('accuracy')\n",
        "plt.legend()\n",
        "plt.grid()\n",
        "plt.show()"
      ],
      "id": "cjBbixWM25ec",
      "execution_count": null,
      "outputs": [
        {
          "output_type": "display_data",
          "data": {
            "image/png": "[encoded data removed]",
            "text/plain": [
              "<Figure size 432x288 with 1 Axes>"
            ]
          },
          "metadata": {
            "needs_background": "light"
          }
        }
      ]
    },
    {
      "cell_type": "markdown",
      "metadata": {
        "id": "2WzGXiOx5EJe"
      },
      "source": [
        "# 10. Neural Network ( Session Phase )  with gradient descent optimizer"
      ],
      "id": "2WzGXiOx5EJe"
    },
    {
      "cell_type": "code",
      "metadata": {
        "colab": {
          "base_uri": "https://localhost:8080/"
        },
        "id": "P5rIDB445TnX",
        "outputId": "92e1d6e1-1574-4b3f-b3b5-5936c560a1e4"
      },
      "source": [
        "plot_valid_loss=[]\n",
        "plot_valid_accuracy=[]\n",
        "plot_train_loss=[]\n",
        "plot_train_accuracy=[]\n",
        "sess = tf.InteractiveSession()\n",
        "sess.run(tf.global_variables_initializer())\n",
        "for epoch in range(30):\n",
        "    print('==================================================')\n",
        "    print('====== Epoch=%s =================================== ' %(epoch))\n",
        "    print('==================================================')\n",
        "    for i in range(math.floor(num_train/batchsize)):\n",
        "        f={input_image:x_train_shaffle[i*batchsize : (i+1)*batchsize] , \n",
        "          output_image:y_train_shaffle[i*batchsize : (i+1)*batchsize] }\n",
        "        sess.run(sgd,feed_dict=f)\n",
        "        if i%100==0:\n",
        "          print('iter {}: \\t Loss={:.2f} \\t training accuracy={:.2f} '.format(i,sess.run(loss,feed_dict=f),sess.run(accuracy,feed_dict=f)))\n",
        "    plot_train_loss.append(sess.run(loss,feed_dict=f))\n",
        "    plot_train_accuracy.append(sess.run(accuracy,feed_dict=f))\n",
        "    f_valid={input_image:x_valid , \n",
        "            output_image:y_valid_hot}\n",
        "    print('--------------------------------------------------')\n",
        "    print('Epoch:{} \\t Validation Loss:{:.2f} \\t validation accuracy={:.2f}'.format(epoch,sess.run(loss,feed_dict=f_valid),sess.run(accuracy,feed_dict=f_valid)))\n",
        "    print('--------------------------------------------------')\n",
        "    plot_valid_loss.append(sess.run(loss,feed_dict=f_valid))\n",
        "    plot_valid_accuracy.append(sess.run(accuracy,feed_dict=f_valid))\n",
        "\n",
        "\n"
      ],
      "id": "P5rIDB445TnX",
      "execution_count": null,
      "outputs": [
        {
          "output_type": "stream",
          "name": "stderr",
          "text": [
            "/usr/local/lib/python3.7/dist-packages/tensorflow/python/client/session.py:1766: UserWarning: An interactive session is already active. This can cause out-of-memory errors in some cases. You must explicitly call `InteractiveSession.close()` to release resources held by the other session(s).\n",
            "  warnings.warn('An interactive session is already active. This can '\n"
          ]
        },
        {
          "output_type": "stream",
          "name": "stdout",
          "text": [
            "==================================================\n",
            "====== Epoch=0 =================================== \n",
            "==================================================\n",
            "iter 0: \t Loss=3.22 \t training accuracy=0.09 \n",
            "iter 100: \t Loss=3.22 \t training accuracy=0.07 \n",
            "--------------------------------------------------\n",
            "Epoch:0 \t Validation Loss:3.22 \t validation accuracy=0.04\n",
            "--------------------------------------------------\n",
            "==================================================\n",
            "====== Epoch=1 =================================== \n",
            "==================================================\n",
            "iter 0: \t Loss=3.22 \t training accuracy=0.07 \n",
            "iter 100: \t Loss=3.22 \t training accuracy=0.03 \n",
            "--------------------------------------------------\n",
            "Epoch:1 \t Validation Loss:3.22 \t validation accuracy=0.04\n",
            "--------------------------------------------------\n",
            "==================================================\n",
            "====== Epoch=2 =================================== \n",
            "==================================================\n",
            "iter 0: \t Loss=3.22 \t training accuracy=0.07 \n",
            "iter 100: \t Loss=3.22 \t training accuracy=0.03 \n",
            "--------------------------------------------------\n",
            "Epoch:2 \t Validation Loss:3.22 \t validation accuracy=0.04\n",
            "--------------------------------------------------\n",
            "==================================================\n",
            "====== Epoch=3 =================================== \n",
            "==================================================\n",
            "iter 0: \t Loss=3.22 \t training accuracy=0.07 \n",
            "iter 100: \t Loss=3.22 \t training accuracy=0.03 \n",
            "--------------------------------------------------\n",
            "Epoch:3 \t Validation Loss:3.22 \t validation accuracy=0.04\n",
            "--------------------------------------------------\n",
            "==================================================\n",
            "====== Epoch=4 =================================== \n",
            "==================================================\n",
            "iter 0: \t Loss=3.22 \t training accuracy=0.07 \n",
            "iter 100: \t Loss=3.22 \t training accuracy=0.03 \n",
            "--------------------------------------------------\n",
            "Epoch:4 \t Validation Loss:3.22 \t validation accuracy=0.04\n",
            "--------------------------------------------------\n",
            "==================================================\n",
            "====== Epoch=5 =================================== \n",
            "==================================================\n",
            "iter 0: \t Loss=3.22 \t training accuracy=0.07 \n",
            "iter 100: \t Loss=3.22 \t training accuracy=0.03 \n",
            "--------------------------------------------------\n",
            "Epoch:5 \t Validation Loss:3.22 \t validation accuracy=0.04\n",
            "--------------------------------------------------\n",
            "==================================================\n",
            "====== Epoch=6 =================================== \n",
            "==================================================\n",
            "iter 0: \t Loss=3.22 \t training accuracy=0.07 \n",
            "iter 100: \t Loss=3.22 \t training accuracy=0.03 \n",
            "--------------------------------------------------\n",
            "Epoch:6 \t Validation Loss:3.22 \t validation accuracy=0.04\n",
            "--------------------------------------------------\n",
            "==================================================\n",
            "====== Epoch=7 =================================== \n",
            "==================================================\n",
            "iter 0: \t Loss=3.22 \t training accuracy=0.07 \n",
            "iter 100: \t Loss=3.22 \t training accuracy=0.03 \n",
            "--------------------------------------------------\n",
            "Epoch:7 \t Validation Loss:3.22 \t validation accuracy=0.04\n",
            "--------------------------------------------------\n",
            "==================================================\n",
            "====== Epoch=8 =================================== \n",
            "==================================================\n",
            "iter 0: \t Loss=3.22 \t training accuracy=0.07 \n",
            "iter 100: \t Loss=3.22 \t training accuracy=0.03 \n",
            "--------------------------------------------------\n",
            "Epoch:8 \t Validation Loss:3.21 \t validation accuracy=0.04\n",
            "--------------------------------------------------\n",
            "==================================================\n",
            "====== Epoch=9 =================================== \n",
            "==================================================\n",
            "iter 0: \t Loss=3.21 \t training accuracy=0.07 \n",
            "iter 100: \t Loss=3.22 \t training accuracy=0.03 \n",
            "--------------------------------------------------\n",
            "Epoch:9 \t Validation Loss:3.21 \t validation accuracy=0.04\n",
            "--------------------------------------------------\n",
            "==================================================\n",
            "====== Epoch=10 =================================== \n",
            "==================================================\n",
            "iter 0: \t Loss=3.21 \t training accuracy=0.07 \n",
            "iter 100: \t Loss=3.21 \t training accuracy=0.03 \n",
            "--------------------------------------------------\n",
            "Epoch:10 \t Validation Loss:3.21 \t validation accuracy=0.04\n",
            "--------------------------------------------------\n",
            "==================================================\n",
            "====== Epoch=11 =================================== \n",
            "==================================================\n",
            "iter 0: \t Loss=3.21 \t training accuracy=0.07 \n",
            "iter 100: \t Loss=3.21 \t training accuracy=0.03 \n",
            "--------------------------------------------------\n",
            "Epoch:11 \t Validation Loss:3.21 \t validation accuracy=0.04\n",
            "--------------------------------------------------\n",
            "==================================================\n",
            "====== Epoch=12 =================================== \n",
            "==================================================\n",
            "iter 0: \t Loss=3.21 \t training accuracy=0.07 \n",
            "iter 100: \t Loss=3.21 \t training accuracy=0.03 \n",
            "--------------------------------------------------\n",
            "Epoch:12 \t Validation Loss:3.21 \t validation accuracy=0.04\n",
            "--------------------------------------------------\n",
            "==================================================\n",
            "====== Epoch=13 =================================== \n",
            "==================================================\n",
            "iter 0: \t Loss=3.21 \t training accuracy=0.07 \n",
            "iter 100: \t Loss=3.21 \t training accuracy=0.03 \n",
            "--------------------------------------------------\n",
            "Epoch:13 \t Validation Loss:3.21 \t validation accuracy=0.04\n",
            "--------------------------------------------------\n",
            "==================================================\n",
            "====== Epoch=14 =================================== \n",
            "==================================================\n",
            "iter 0: \t Loss=3.21 \t training accuracy=0.07 \n",
            "iter 100: \t Loss=3.21 \t training accuracy=0.03 \n",
            "--------------------------------------------------\n",
            "Epoch:14 \t Validation Loss:3.21 \t validation accuracy=0.04\n",
            "--------------------------------------------------\n",
            "==================================================\n",
            "====== Epoch=15 =================================== \n",
            "==================================================\n",
            "iter 0: \t Loss=3.21 \t training accuracy=0.07 \n",
            "iter 100: \t Loss=3.21 \t training accuracy=0.03 \n",
            "--------------------------------------------------\n",
            "Epoch:15 \t Validation Loss:3.21 \t validation accuracy=0.04\n",
            "--------------------------------------------------\n",
            "==================================================\n",
            "====== Epoch=16 =================================== \n",
            "==================================================\n",
            "iter 0: \t Loss=3.21 \t training accuracy=0.07 \n",
            "iter 100: \t Loss=3.21 \t training accuracy=0.03 \n",
            "--------------------------------------------------\n",
            "Epoch:16 \t Validation Loss:3.21 \t validation accuracy=0.04\n",
            "--------------------------------------------------\n",
            "==================================================\n",
            "====== Epoch=17 =================================== \n",
            "==================================================\n",
            "iter 0: \t Loss=3.21 \t training accuracy=0.07 \n",
            "iter 100: \t Loss=3.21 \t training accuracy=0.03 \n",
            "--------------------------------------------------\n",
            "Epoch:17 \t Validation Loss:3.21 \t validation accuracy=0.04\n",
            "--------------------------------------------------\n",
            "==================================================\n",
            "====== Epoch=18 =================================== \n",
            "==================================================\n",
            "iter 0: \t Loss=3.20 \t training accuracy=0.07 \n",
            "iter 100: \t Loss=3.21 \t training accuracy=0.03 \n",
            "--------------------------------------------------\n",
            "Epoch:18 \t Validation Loss:3.20 \t validation accuracy=0.04\n",
            "--------------------------------------------------\n",
            "==================================================\n",
            "====== Epoch=19 =================================== \n",
            "==================================================\n",
            "iter 0: \t Loss=3.20 \t training accuracy=0.07 \n",
            "iter 100: \t Loss=3.21 \t training accuracy=0.03 \n",
            "--------------------------------------------------\n",
            "Epoch:19 \t Validation Loss:3.20 \t validation accuracy=0.04\n",
            "--------------------------------------------------\n",
            "==================================================\n",
            "====== Epoch=20 =================================== \n",
            "==================================================\n",
            "iter 0: \t Loss=3.20 \t training accuracy=0.07 \n",
            "iter 100: \t Loss=3.20 \t training accuracy=0.03 \n",
            "--------------------------------------------------\n",
            "Epoch:20 \t Validation Loss:3.20 \t validation accuracy=0.04\n",
            "--------------------------------------------------\n",
            "==================================================\n",
            "====== Epoch=21 =================================== \n",
            "==================================================\n",
            "iter 0: \t Loss=3.20 \t training accuracy=0.07 \n",
            "iter 100: \t Loss=3.20 \t training accuracy=0.03 \n",
            "--------------------------------------------------\n",
            "Epoch:21 \t Validation Loss:3.20 \t validation accuracy=0.04\n",
            "--------------------------------------------------\n",
            "==================================================\n",
            "====== Epoch=22 =================================== \n",
            "==================================================\n",
            "iter 0: \t Loss=3.19 \t training accuracy=0.07 \n",
            "iter 100: \t Loss=3.20 \t training accuracy=0.03 \n",
            "--------------------------------------------------\n",
            "Epoch:22 \t Validation Loss:3.20 \t validation accuracy=0.04\n",
            "--------------------------------------------------\n",
            "==================================================\n",
            "====== Epoch=23 =================================== \n",
            "==================================================\n",
            "iter 0: \t Loss=3.19 \t training accuracy=0.07 \n",
            "iter 100: \t Loss=3.20 \t training accuracy=0.03 \n",
            "--------------------------------------------------\n",
            "Epoch:23 \t Validation Loss:3.19 \t validation accuracy=0.04\n",
            "--------------------------------------------------\n",
            "==================================================\n",
            "====== Epoch=24 =================================== \n",
            "==================================================\n",
            "iter 0: \t Loss=3.19 \t training accuracy=0.07 \n",
            "iter 100: \t Loss=3.20 \t training accuracy=0.03 \n",
            "--------------------------------------------------\n",
            "Epoch:24 \t Validation Loss:3.19 \t validation accuracy=0.04\n",
            "--------------------------------------------------\n",
            "==================================================\n",
            "====== Epoch=25 =================================== \n",
            "==================================================\n",
            "iter 0: \t Loss=3.19 \t training accuracy=0.07 \n",
            "iter 100: \t Loss=3.20 \t training accuracy=0.03 \n",
            "--------------------------------------------------\n",
            "Epoch:25 \t Validation Loss:3.19 \t validation accuracy=0.04\n",
            "--------------------------------------------------\n",
            "==================================================\n",
            "====== Epoch=26 =================================== \n",
            "==================================================\n",
            "iter 0: \t Loss=3.18 \t training accuracy=0.07 \n",
            "iter 100: \t Loss=3.20 \t training accuracy=0.03 \n",
            "--------------------------------------------------\n",
            "Epoch:26 \t Validation Loss:3.19 \t validation accuracy=0.04\n",
            "--------------------------------------------------\n",
            "==================================================\n",
            "====== Epoch=27 =================================== \n",
            "==================================================\n",
            "iter 0: \t Loss=3.18 \t training accuracy=0.07 \n",
            "iter 100: \t Loss=3.20 \t training accuracy=0.03 \n",
            "--------------------------------------------------\n",
            "Epoch:27 \t Validation Loss:3.19 \t validation accuracy=0.04\n",
            "--------------------------------------------------\n",
            "==================================================\n",
            "====== Epoch=28 =================================== \n",
            "==================================================\n",
            "iter 0: \t Loss=3.18 \t training accuracy=0.07 \n",
            "iter 100: \t Loss=3.19 \t training accuracy=0.03 \n",
            "--------------------------------------------------\n",
            "Epoch:28 \t Validation Loss:3.19 \t validation accuracy=0.04\n",
            "--------------------------------------------------\n",
            "==================================================\n",
            "====== Epoch=29 =================================== \n",
            "==================================================\n",
            "iter 0: \t Loss=3.18 \t training accuracy=0.07 \n",
            "iter 100: \t Loss=3.19 \t training accuracy=0.03 \n",
            "--------------------------------------------------\n",
            "Epoch:29 \t Validation Loss:3.19 \t validation accuracy=0.04\n",
            "--------------------------------------------------\n"
          ]
        }
      ]
    },
    {
      "cell_type": "code",
      "metadata": {
        "colab": {
          "base_uri": "https://localhost:8080/",
          "height": 294
        },
        "id": "YF7Qvh0K5n1x",
        "outputId": "b04dda54-ebea-4c60-e4b8-120dfe080477"
      },
      "source": [
        "plt.plot(range(epoch+1),plot_valid_loss,label='validation loss', color='b',LineWidth=3)\n",
        "plt.plot(range(epoch+1),plot_train_loss,label='train loss', color='r',LineWidth=3)\n",
        "plt.title(\"Change in Loss with sgd optimizer\")\n",
        "plt.xlabel('epochs')\n",
        "plt.ylabel('loss')\n",
        "plt.legend()\n",
        "plt.grid()\n",
        "plt.show()"
      ],
      "id": "YF7Qvh0K5n1x",
      "execution_count": null,
      "outputs": [
        {
          "output_type": "display_data",
          "data": {
            "image/png": "[encoded data removed]",
            "text/plain": [
              "<Figure size 432x288 with 1 Axes>"
            ]
          },
          "metadata": {
            "needs_background": "light"
          }
        }
      ]
    },
    {
      "cell_type": "code",
      "metadata": {
        "colab": {
          "base_uri": "https://localhost:8080/",
          "height": 294
        },
        "id": "HINIJ5845znr",
        "outputId": "f55eafa2-72ac-4e1b-a6ef-272e607f9825"
      },
      "source": [
        "plt.plot(range(epoch+1),plot_valid_accuracy,label='validation accuracy', color='b',LineWidth=3)\n",
        "plt.plot(range(epoch+1),plot_train_accuracy,label='train accuracy', color='r',LineWidth=3)\n",
        "plt.title(\"Change in accuracy with adam optimizer\")\n",
        "plt.xlabel('epochs')\n",
        "plt.ylabel('accuracy')\n",
        "plt.legend()\n",
        "plt.grid()\n",
        "plt.show()"
      ],
      "id": "HINIJ5845znr",
      "execution_count": null,
      "outputs": [
        {
          "output_type": "display_data",
          "data": {
            "image/png": "[encoded data removed]",
            "text/plain": [
              "<Figure size 432x288 with 1 Axes>"
            ]
          },
          "metadata": {
            "needs_background": "light"
          }
        }
      ]
    },
    {
      "cell_type": "markdown",
      "metadata": {
        "id": "fOCItrYTFTqf"
      },
      "source": [
        "# 11. Add Dropout layer\n"
      ],
      "id": "fOCItrYTFTqf"
    },
    {
      "cell_type": "code",
      "metadata": {
        "id": "1sWo5Bkpwnud",
        "colab": {
          "base_uri": "https://localhost:8080/"
        },
        "outputId": "df3487b9-ea19-4e1c-da7e-d2815ccc1dd1"
      },
      "source": [
        "tf.reset_default_graph()\n",
        "input_image=tf.placeholder(dtype=tf.float32, shape=(None,num_feature),\n",
        "                           name='INPUT')\n",
        "\n",
        "keep = tf.placeholder(dtype=tf.float32)\n",
        "\n",
        "FC1=FC(input_image, 512, 'FC1', relu=True)\n",
        "o1 = tf.nn.dropout(FC1, keep_prob=keep)\n",
        "\n",
        "H2=FC(o1, 25, 'FC2', relu=False)\n",
        "\n",
        "\n",
        "\n",
        "output_image=tf.placeholder(dtype=tf.float32, shape=(None, num_class),\n",
        "                           name='OUTPUT')"
      ],
      "id": "1sWo5Bkpwnud",
      "execution_count": null,
      "outputs": [
        {
          "output_type": "stream",
          "name": "stdout",
          "text": [
            "WARNING:tensorflow:From /usr/local/lib/python3.7/dist-packages/tensorflow/python/util/dispatch.py:206: calling dropout (from tensorflow.python.ops.nn_ops) with keep_prob is deprecated and will be removed in a future version.\n",
            "Instructions for updating:\n",
            "Please use `rate` instead of `keep_prob`. Rate should be set to `rate = 1 - keep_prob`.\n"
          ]
        }
      ]
    },
    {
      "cell_type": "code",
      "metadata": {
        "id": "KwE6xPd98Xaj"
      },
      "source": [
        "loss= tf.reduce_mean(tf.nn.softmax_cross_entropy_with_logits(labels=output_image, logits= H2,\n",
        "                                            name='LOSS'))\n",
        "adam=tf.train.AdamOptimizer (\n",
        "    learning_rate=rl, name='Adam'\n",
        ").minimize(loss)\n",
        "\n",
        "accuracy=tf.reduce_mean(tf.cast(tf.math.equal(tf.argmax(H2,axis=1),tf.argmax(output_image,axis=1)),dtype=tf.float32))\n",
        "find_misclass=tf.where(tf.math.logical_not(tf.math.equal(tf.argmax(H2,axis=1),tf.argmax(output_image,axis=1))))\n",
        "\n",
        "loss_tensorboard= tf.summary.scalar('LOSS_TENSORBOARD' ,loss)\n",
        "accuracy_tb= tf.summary.scalar('accuracy_TENSORBOARD' ,accuracy)"
      ],
      "id": "KwE6xPd98Xaj",
      "execution_count": null,
      "outputs": []
    },
    {
      "cell_type": "code",
      "metadata": {
        "colab": {
          "base_uri": "https://localhost:8080/"
        },
        "id": "qusPtmfu8cdc",
        "outputId": "eda08f32-9989-4521-b597-86ce1382ffd5"
      },
      "source": [
        "plot_valid_loss=[]\n",
        "plot_valid_accuracy=[]\n",
        "plot_train_loss=[]\n",
        "plot_train_accuracy=[]\n",
        "sess = tf.InteractiveSession()\n",
        "write = tf.summary.FileWriter('./graphs', sess.graph)\n",
        "sess.run(tf.global_variables_initializer())\n",
        "for epoch in range(30):\n",
        "    print('==================================================')\n",
        "    print('====== Epoch=%s =================================== ' %(epoch))\n",
        "    print('==================================================')\n",
        "    for i in range(math.floor(num_train/batchsize)):\n",
        "        f={input_image:x_train_shaffle[i*batchsize : (i+1)*batchsize] , \n",
        "          output_image:y_train_shaffle[i*batchsize : (i+1)*batchsize],keep:0.5 }\n",
        "        sess.run(adam,feed_dict=f)\n",
        "        if i%100==0:\n",
        "          print('iter {}: \\t Loss={:.2f} \\t training accuracy={:.2f} '.format(i,sess.run(loss,feed_dict=f),sess.run(accuracy,feed_dict=f)))\n",
        "\n",
        "    plot_train_loss.append(sess.run(loss,feed_dict=f))\n",
        "    plot_train_accuracy.append(sess.run(accuracy,feed_dict=f))\n",
        "    f_valid={input_image:x_valid , \n",
        "            output_image:y_valid_hot,keep:0.5}\n",
        "    print('--------------------------------------------------')\n",
        "    print('Epoch:{} \\t Validation Loss:{:.2f} \\t validation accuracy={:.2f}'.format(epoch,sess.run(loss,feed_dict=f_valid),sess.run(accuracy,feed_dict=f_valid)))\n",
        "    print('--------------------------------------------------')\n",
        "    plot_valid_loss.append(sess.run(loss,feed_dict=f_valid))\n",
        "    plot_valid_accuracy.append(sess.run(accuracy,feed_dict=f_valid))\n",
        "    \n",
        "\n"
      ],
      "id": "qusPtmfu8cdc",
      "execution_count": null,
      "outputs": [
        {
          "output_type": "stream",
          "name": "stderr",
          "text": [
            "/usr/local/lib/python3.7/dist-packages/tensorflow/python/client/session.py:1766: UserWarning: An interactive session is already active. This can cause out-of-memory errors in some cases. You must explicitly call `InteractiveSession.close()` to release resources held by the other session(s).\n",
            "  warnings.warn('An interactive session is already active. This can '\n"
          ]
        },
        {
          "output_type": "stream",
          "name": "stdout",
          "text": [
            "==================================================\n",
            "====== Epoch=0 =================================== \n",
            "==================================================\n",
            "iter 0: \t Loss=3.19 \t training accuracy=0.08 \n",
            "iter 100: \t Loss=2.85 \t training accuracy=0.17 \n",
            "--------------------------------------------------\n",
            "Epoch:0 \t Validation Loss:2.33 \t validation accuracy=0.27\n",
            "--------------------------------------------------\n",
            "==================================================\n",
            "====== Epoch=1 =================================== \n",
            "==================================================\n",
            "iter 0: \t Loss=2.30 \t training accuracy=0.26 \n",
            "iter 100: \t Loss=2.16 \t training accuracy=0.29 \n",
            "--------------------------------------------------\n",
            "Epoch:1 \t Validation Loss:1.91 \t validation accuracy=0.39\n",
            "--------------------------------------------------\n",
            "==================================================\n",
            "====== Epoch=2 =================================== \n",
            "==================================================\n",
            "iter 0: \t Loss=1.96 \t training accuracy=0.43 \n",
            "iter 100: \t Loss=1.87 \t training accuracy=0.43 \n",
            "--------------------------------------------------\n",
            "Epoch:2 \t Validation Loss:1.68 \t validation accuracy=0.45\n",
            "--------------------------------------------------\n",
            "==================================================\n",
            "====== Epoch=3 =================================== \n",
            "==================================================\n",
            "iter 0: \t Loss=1.79 \t training accuracy=0.36 \n",
            "iter 100: \t Loss=1.61 \t training accuracy=0.49 \n",
            "--------------------------------------------------\n",
            "Epoch:3 \t Validation Loss:1.49 \t validation accuracy=0.51\n",
            "--------------------------------------------------\n",
            "==================================================\n",
            "====== Epoch=4 =================================== \n",
            "==================================================\n",
            "iter 0: \t Loss=1.60 \t training accuracy=0.51 \n",
            "iter 100: \t Loss=1.62 \t training accuracy=0.49 \n",
            "--------------------------------------------------\n",
            "Epoch:4 \t Validation Loss:1.43 \t validation accuracy=0.54\n",
            "--------------------------------------------------\n",
            "==================================================\n",
            "====== Epoch=5 =================================== \n",
            "==================================================\n",
            "iter 0: \t Loss=1.51 \t training accuracy=0.50 \n",
            "iter 100: \t Loss=1.51 \t training accuracy=0.54 \n",
            "--------------------------------------------------\n",
            "Epoch:5 \t Validation Loss:1.33 \t validation accuracy=0.57\n",
            "--------------------------------------------------\n",
            "==================================================\n",
            "====== Epoch=6 =================================== \n",
            "==================================================\n",
            "iter 0: \t Loss=1.40 \t training accuracy=0.56 \n",
            "iter 100: \t Loss=1.42 \t training accuracy=0.52 \n",
            "--------------------------------------------------\n",
            "Epoch:6 \t Validation Loss:1.20 \t validation accuracy=0.60\n",
            "--------------------------------------------------\n",
            "==================================================\n",
            "====== Epoch=7 =================================== \n",
            "==================================================\n",
            "iter 0: \t Loss=1.21 \t training accuracy=0.54 \n",
            "iter 100: \t Loss=1.27 \t training accuracy=0.59 \n",
            "--------------------------------------------------\n",
            "Epoch:7 \t Validation Loss:1.16 \t validation accuracy=0.61\n",
            "--------------------------------------------------\n",
            "==================================================\n",
            "====== Epoch=8 =================================== \n",
            "==================================================\n",
            "iter 0: \t Loss=1.18 \t training accuracy=0.58 \n",
            "iter 100: \t Loss=1.13 \t training accuracy=0.67 \n",
            "--------------------------------------------------\n",
            "Epoch:8 \t Validation Loss:1.11 \t validation accuracy=0.62\n",
            "--------------------------------------------------\n",
            "==================================================\n",
            "====== Epoch=9 =================================== \n",
            "==================================================\n",
            "iter 0: \t Loss=1.13 \t training accuracy=0.57 \n",
            "iter 100: \t Loss=1.10 \t training accuracy=0.69 \n",
            "--------------------------------------------------\n",
            "Epoch:9 \t Validation Loss:1.03 \t validation accuracy=0.65\n",
            "--------------------------------------------------\n",
            "==================================================\n",
            "====== Epoch=10 =================================== \n",
            "==================================================\n",
            "iter 0: \t Loss=1.10 \t training accuracy=0.63 \n",
            "iter 100: \t Loss=1.03 \t training accuracy=0.62 \n",
            "--------------------------------------------------\n",
            "Epoch:10 \t Validation Loss:0.99 \t validation accuracy=0.66\n",
            "--------------------------------------------------\n",
            "==================================================\n",
            "====== Epoch=11 =================================== \n",
            "==================================================\n",
            "iter 0: \t Loss=0.95 \t training accuracy=0.69 \n",
            "iter 100: \t Loss=1.04 \t training accuracy=0.67 \n",
            "--------------------------------------------------\n",
            "Epoch:11 \t Validation Loss:0.91 \t validation accuracy=0.69\n",
            "--------------------------------------------------\n",
            "==================================================\n",
            "====== Epoch=12 =================================== \n",
            "==================================================\n",
            "iter 0: \t Loss=1.04 \t training accuracy=0.72 \n",
            "iter 100: \t Loss=0.95 \t training accuracy=0.71 \n",
            "--------------------------------------------------\n",
            "Epoch:12 \t Validation Loss:0.89 \t validation accuracy=0.70\n",
            "--------------------------------------------------\n",
            "==================================================\n",
            "====== Epoch=13 =================================== \n",
            "==================================================\n",
            "iter 0: \t Loss=0.95 \t training accuracy=0.65 \n",
            "iter 100: \t Loss=0.90 \t training accuracy=0.69 \n",
            "--------------------------------------------------\n",
            "Epoch:13 \t Validation Loss:0.81 \t validation accuracy=0.73\n",
            "--------------------------------------------------\n",
            "==================================================\n",
            "====== Epoch=14 =================================== \n",
            "==================================================\n",
            "iter 0: \t Loss=0.92 \t training accuracy=0.66 \n",
            "iter 100: \t Loss=0.83 \t training accuracy=0.69 \n",
            "--------------------------------------------------\n",
            "Epoch:14 \t Validation Loss:0.82 \t validation accuracy=0.73\n",
            "--------------------------------------------------\n",
            "==================================================\n",
            "====== Epoch=15 =================================== \n",
            "==================================================\n",
            "iter 0: \t Loss=0.89 \t training accuracy=0.73 \n",
            "iter 100: \t Loss=0.80 \t training accuracy=0.68 \n",
            "--------------------------------------------------\n",
            "Epoch:15 \t Validation Loss:0.77 \t validation accuracy=0.74\n",
            "--------------------------------------------------\n",
            "==================================================\n",
            "====== Epoch=16 =================================== \n",
            "==================================================\n",
            "iter 0: \t Loss=0.77 \t training accuracy=0.73 \n",
            "iter 100: \t Loss=0.79 \t training accuracy=0.73 \n",
            "--------------------------------------------------\n",
            "Epoch:16 \t Validation Loss:0.71 \t validation accuracy=0.75\n",
            "--------------------------------------------------\n",
            "==================================================\n",
            "====== Epoch=17 =================================== \n",
            "==================================================\n",
            "iter 0: \t Loss=0.75 \t training accuracy=0.79 \n",
            "iter 100: \t Loss=0.72 \t training accuracy=0.80 \n",
            "--------------------------------------------------\n",
            "Epoch:17 \t Validation Loss:0.71 \t validation accuracy=0.75\n",
            "--------------------------------------------------\n",
            "==================================================\n",
            "====== Epoch=18 =================================== \n",
            "==================================================\n",
            "iter 0: \t Loss=0.66 \t training accuracy=0.78 \n",
            "iter 100: \t Loss=0.58 \t training accuracy=0.78 \n",
            "--------------------------------------------------\n",
            "Epoch:18 \t Validation Loss:0.66 \t validation accuracy=0.77\n",
            "--------------------------------------------------\n",
            "==================================================\n",
            "====== Epoch=19 =================================== \n",
            "==================================================\n",
            "iter 0: \t Loss=0.64 \t training accuracy=0.75 \n",
            "iter 100: \t Loss=0.67 \t training accuracy=0.83 \n",
            "--------------------------------------------------\n",
            "Epoch:19 \t Validation Loss:0.66 \t validation accuracy=0.77\n",
            "--------------------------------------------------\n",
            "==================================================\n",
            "====== Epoch=20 =================================== \n",
            "==================================================\n",
            "iter 0: \t Loss=0.73 \t training accuracy=0.81 \n",
            "iter 100: \t Loss=0.55 \t training accuracy=0.79 \n",
            "--------------------------------------------------\n",
            "Epoch:20 \t Validation Loss:0.67 \t validation accuracy=0.77\n",
            "--------------------------------------------------\n",
            "==================================================\n",
            "====== Epoch=21 =================================== \n",
            "==================================================\n",
            "iter 0: \t Loss=0.68 \t training accuracy=0.78 \n",
            "iter 100: \t Loss=0.58 \t training accuracy=0.83 \n",
            "--------------------------------------------------\n",
            "Epoch:21 \t Validation Loss:0.63 \t validation accuracy=0.78\n",
            "--------------------------------------------------\n",
            "==================================================\n",
            "====== Epoch=22 =================================== \n",
            "==================================================\n",
            "iter 0: \t Loss=0.69 \t training accuracy=0.80 \n",
            "iter 100: \t Loss=0.54 \t training accuracy=0.81 \n",
            "--------------------------------------------------\n",
            "Epoch:22 \t Validation Loss:0.62 \t validation accuracy=0.79\n",
            "--------------------------------------------------\n",
            "==================================================\n",
            "====== Epoch=23 =================================== \n",
            "==================================================\n",
            "iter 0: \t Loss=0.63 \t training accuracy=0.83 \n",
            "iter 100: \t Loss=0.50 \t training accuracy=0.83 \n",
            "--------------------------------------------------\n",
            "Epoch:23 \t Validation Loss:0.60 \t validation accuracy=0.79\n",
            "--------------------------------------------------\n",
            "==================================================\n",
            "====== Epoch=24 =================================== \n",
            "==================================================\n",
            "iter 0: \t Loss=0.69 \t training accuracy=0.85 \n",
            "iter 100: \t Loss=0.60 \t training accuracy=0.82 \n",
            "--------------------------------------------------\n",
            "Epoch:24 \t Validation Loss:0.55 \t validation accuracy=0.81\n",
            "--------------------------------------------------\n",
            "==================================================\n",
            "====== Epoch=25 =================================== \n",
            "==================================================\n",
            "iter 0: \t Loss=0.62 \t training accuracy=0.87 \n",
            "iter 100: \t Loss=0.50 \t training accuracy=0.86 \n",
            "--------------------------------------------------\n",
            "Epoch:25 \t Validation Loss:0.51 \t validation accuracy=0.83\n",
            "--------------------------------------------------\n",
            "==================================================\n",
            "====== Epoch=26 =================================== \n",
            "==================================================\n",
            "iter 0: \t Loss=0.50 \t training accuracy=0.87 \n",
            "iter 100: \t Loss=0.59 \t training accuracy=0.78 \n",
            "--------------------------------------------------\n",
            "Epoch:26 \t Validation Loss:0.54 \t validation accuracy=0.81\n",
            "--------------------------------------------------\n",
            "==================================================\n",
            "====== Epoch=27 =================================== \n",
            "==================================================\n",
            "iter 0: \t Loss=0.63 \t training accuracy=0.77 \n",
            "iter 100: \t Loss=0.46 \t training accuracy=0.87 \n",
            "--------------------------------------------------\n",
            "Epoch:27 \t Validation Loss:0.52 \t validation accuracy=0.81\n",
            "--------------------------------------------------\n",
            "==================================================\n",
            "====== Epoch=28 =================================== \n",
            "==================================================\n",
            "iter 0: \t Loss=0.46 \t training accuracy=0.79 \n",
            "iter 100: \t Loss=0.50 \t training accuracy=0.84 \n",
            "--------------------------------------------------\n",
            "Epoch:28 \t Validation Loss:0.45 \t validation accuracy=0.85\n",
            "--------------------------------------------------\n",
            "==================================================\n",
            "====== Epoch=29 =================================== \n",
            "==================================================\n",
            "iter 0: \t Loss=0.51 \t training accuracy=0.85 \n",
            "iter 100: \t Loss=0.59 \t training accuracy=0.86 \n",
            "--------------------------------------------------\n",
            "Epoch:29 \t Validation Loss:0.47 \t validation accuracy=0.84\n",
            "--------------------------------------------------\n"
          ]
        }
      ]
    },
    {
      "cell_type": "code",
      "metadata": {
        "id": "jR26yEzxBO_j"
      },
      "source": [
        ""
      ],
      "id": "jR26yEzxBO_j",
      "execution_count": null,
      "outputs": []
    },
    {
      "cell_type": "code",
      "metadata": {
        "colab": {
          "base_uri": "https://localhost:8080/",
          "height": 294
        },
        "id": "5zDEtpt-8jfs",
        "outputId": "3716280c-ce41-4e3c-b387-6a47946e1fe1"
      },
      "source": [
        "plt.plot(range(epoch+1),plot_valid_loss,label='validation loss', color='b',LineWidth=3)\n",
        "plt.plot(range(epoch+1),plot_train_loss,label='train loss', color='r',LineWidth=3)\n",
        "plt.title(\"Change in Loss with adam optimizer with dropout\")\n",
        "plt.xlabel('epochs')\n",
        "plt.ylabel('loss')\n",
        "plt.legend()\n",
        "plt.grid()\n",
        "plt.show()"
      ],
      "id": "5zDEtpt-8jfs",
      "execution_count": null,
      "outputs": [
        {
          "output_type": "display_data",
          "data": {
            "image/png": "[encoded data removed]",
            "text/plain": [
              "<Figure size 432x288 with 1 Axes>"
            ]
          },
          "metadata": {
            "needs_background": "light"
          }
        }
      ]
    },
    {
      "cell_type": "code",
      "metadata": {
        "colab": {
          "base_uri": "https://localhost:8080/",
          "height": 294
        },
        "id": "Hza7C3IL8_Fe",
        "outputId": "63d9073e-9551-4458-bd69-6d6799f26f57"
      },
      "source": [
        "plt.plot(range(epoch+1),plot_valid_accuracy,label='validation accuracy', color='b',LineWidth=3)\n",
        "plt.plot(range(epoch+1),plot_train_accuracy,label='train accuracy', color='r',LineWidth=3)\n",
        "plt.title(\"Change in accuracy with adam optimizer with dropout\")\n",
        "plt.xlabel('epochs')\n",
        "plt.ylabel('accuracy')\n",
        "plt.legend()\n",
        "plt.grid()\n",
        "plt.show()"
      ],
      "id": "Hza7C3IL8_Fe",
      "execution_count": null,
      "outputs": [
        {
          "output_type": "display_data",
          "data": {
            "image/png": "[encoded data removed]",
            "text/plain": [
              "<Figure size 432x288 with 1 Axes>"
            ]
          },
          "metadata": {
            "needs_background": "light"
          }
        }
      ]
    },
    {
      "cell_type": "markdown",
      "metadata": {
        "id": "FjHz8baP_SJF"
      },
      "source": [
        "# 12. Add batch normalization layer\n"
      ],
      "id": "FjHz8baP_SJF"
    },
    {
      "cell_type": "code",
      "metadata": {
        "id": "S33CEO3v9lCJ"
      },
      "source": [
        "tf.reset_default_graph()\n",
        "input_image=tf.placeholder(dtype=tf.float32, shape=(None,num_feature),\n",
        "                           name='INPUT')\n",
        "\n",
        "keep = tf.placeholder(dtype=tf.float32)\n",
        "\n",
        "FC1=FC(input_image, 512, 'FC1', relu=True)\n",
        "\n",
        "inputs_shape = FC1.get_shape()\n",
        "inputs_rank = inputs_shape.ndims\n",
        "axis = range(1, inputs_rank)\n",
        "mean_x_1, std_x_1 = tf.nn.moments(FC1, axis, keep_dims=True)\n",
        "bn1 = tf.nn.batch_normalization(FC1,mean_x_1, std_x_1, None, None, 1e-12)\n",
        "\n",
        "FC2=FC(bn1, 256, 'FC2', relu=True)\n",
        "\n",
        "inputs_shape = FC2.get_shape()\n",
        "inputs_rank = inputs_shape.ndims\n",
        "axis = range(1, inputs_rank)\n",
        "mean_x_2, std_x_2 = tf.nn.moments(FC2, axis, keep_dims=True)\n",
        "bn2 = tf.nn.batch_normalization(FC2,mean_x_2, std_x_2 , None, None, 1e-12)\n",
        "\n",
        "FC3=FC(bn2, 128, 'FC3', relu=True)\n",
        "\n",
        "inputs_shape = FC3.get_shape()\n",
        "inputs_rank = inputs_shape.ndims\n",
        "axis = range(1, inputs_rank)\n",
        "mean_x_3, std_x_3 = tf.nn.moments(FC3, axis , keep_dims=True)\n",
        "bn3 = tf.nn.batch_normalization(FC3,mean_x_3, std_x_3, None, None, 1e-12)\n",
        "\n",
        "H2=FC(bn3, 25, 'FC4', relu=False)\n",
        "\n",
        "\n",
        "\n",
        "output_image=tf.placeholder(dtype=tf.float32, shape=(None, num_class),\n",
        "                           name='OUTPUT')"
      ],
      "id": "S33CEO3v9lCJ",
      "execution_count": null,
      "outputs": []
    },
    {
      "cell_type": "code",
      "metadata": {
        "id": "A4r9nB1SRv-E"
      },
      "source": [
        "loss= tf.reduce_mean(tf.nn.softmax_cross_entropy_with_logits(labels=output_image, logits= H2,\n",
        "                                            name='LOSS'))\n",
        "adam=tf.train.AdamOptimizer (\n",
        "    learning_rate=rl, name='Adam'\n",
        ").minimize(loss)\n",
        "\n",
        "\n",
        "accuracy=tf.reduce_mean(tf.cast(tf.math.equal(tf.argmax(H2,axis=1),tf.argmax(output_image,axis=1)),dtype=tf.float32))\n",
        "find_misclass=tf.where(tf.math.logical_not(tf.math.equal(tf.argmax(H2,axis=1),tf.argmax(output_image,axis=1))))\n",
        "\n",
        "loss_tb= tf.summary.scalar('LOSS_TENSORBOARD' ,loss)\n",
        "accuracy_tb= tf.summary.scalar('accuracy_TENSORBOARD' ,accuracy)"
      ],
      "id": "A4r9nB1SRv-E",
      "execution_count": null,
      "outputs": []
    },
    {
      "cell_type": "code",
      "metadata": {
        "colab": {
          "base_uri": "https://localhost:8080/"
        },
        "id": "CRwpcjIxCl43",
        "outputId": "787a516b-669c-4f94-c755-beed204d0e7d"
      },
      "source": [
        "plot_valid_loss=[]\n",
        "plot_valid_accuracy=[]\n",
        "plot_train_loss=[]\n",
        "plot_train_accuracy=[]\n",
        "sess = tf.InteractiveSession()\n",
        "sess.run(tf.global_variables_initializer())\n",
        "for epoch in range(17):\n",
        "    print('==================================================')\n",
        "    print('====== Epoch=%s =================================== ' %(epoch))\n",
        "    print('==================================================')\n",
        "    for i in range(math.floor(num_train/batchsize)):\n",
        "        f={input_image:x_train_shaffle[i*batchsize : (i+1)*batchsize] , \n",
        "          output_image:y_train_shaffle[i*batchsize : (i+1)*batchsize]}\n",
        "        sess.run(adam,feed_dict=f)\n",
        "        if i%100==0:\n",
        "          print('iter {}: \\t Loss={:.2f} \\t training accuracy={:.2f} '.format(i,sess.run(loss,feed_dict=f),sess.run(accuracy,feed_dict=f)))\n",
        "          print(H2)\n",
        "    plot_train_loss.append(sess.run(loss,feed_dict=f))\n",
        "    plot_train_accuracy.append(sess.run(accuracy,feed_dict=f))\n",
        "    f_valid={input_image:x_valid , \n",
        "            output_image:y_valid_hot}\n",
        "    print('--------------------------------------------------')\n",
        "    print('Epoch:{} \\t Validation Loss:{:.2f} \\t validation accuracy={:.2f}'.format(epoch,sess.run(loss,feed_dict=f_valid),sess.run(accuracy,feed_dict=f_valid)))\n",
        "    print('--------------------------------------------------')\n",
        "    plot_valid_loss.append(sess.run(loss,feed_dict=f_valid))\n",
        "    plot_valid_accuracy.append(sess.run(accuracy,feed_dict=f_valid))\n",
        "\n",
        "\n"
      ],
      "id": "CRwpcjIxCl43",
      "execution_count": null,
      "outputs": [
        {
          "output_type": "stream",
          "name": "stderr",
          "text": [
            "/usr/local/lib/python3.7/dist-packages/tensorflow/python/client/session.py:1766: UserWarning: An interactive session is already active. This can cause out-of-memory errors in some cases. You must explicitly call `InteractiveSession.close()` to release resources held by the other session(s).\n",
            "  warnings.warn('An interactive session is already active. This can '\n"
          ]
        },
        {
          "output_type": "stream",
          "name": "stdout",
          "text": [
            "==================================================\n",
            "====== Epoch=0 =================================== \n",
            "==================================================\n",
            "iter 0: \t Loss=3.20 \t training accuracy=0.07 \n",
            "Tensor(\"Add_3:0\", shape=(?, 25), dtype=float32)\n",
            "iter 100: \t Loss=3.18 \t training accuracy=0.03 \n",
            "Tensor(\"Add_3:0\", shape=(?, 25), dtype=float32)\n",
            "--------------------------------------------------\n",
            "Epoch:0 \t Validation Loss:3.18 \t validation accuracy=0.04\n",
            "--------------------------------------------------\n",
            "==================================================\n",
            "====== Epoch=1 =================================== \n",
            "==================================================\n",
            "iter 0: \t Loss=3.18 \t training accuracy=0.08 \n",
            "Tensor(\"Add_3:0\", shape=(?, 25), dtype=float32)\n",
            "iter 100: \t Loss=2.73 \t training accuracy=0.07 \n",
            "Tensor(\"Add_3:0\", shape=(?, 25), dtype=float32)\n",
            "--------------------------------------------------\n",
            "Epoch:1 \t Validation Loss:2.57 \t validation accuracy=0.15\n",
            "--------------------------------------------------\n",
            "==================================================\n",
            "====== Epoch=2 =================================== \n",
            "==================================================\n",
            "iter 0: \t Loss=2.40 \t training accuracy=0.23 \n",
            "Tensor(\"Add_3:0\", shape=(?, 25), dtype=float32)\n",
            "iter 100: \t Loss=2.39 \t training accuracy=0.13 \n",
            "Tensor(\"Add_3:0\", shape=(?, 25), dtype=float32)\n",
            "--------------------------------------------------\n",
            "Epoch:2 \t Validation Loss:1.99 \t validation accuracy=0.31\n",
            "--------------------------------------------------\n",
            "==================================================\n",
            "====== Epoch=3 =================================== \n",
            "==================================================\n",
            "iter 0: \t Loss=1.87 \t training accuracy=0.37 \n",
            "Tensor(\"Add_3:0\", shape=(?, 25), dtype=float32)\n",
            "iter 100: \t Loss=1.91 \t training accuracy=0.37 \n",
            "Tensor(\"Add_3:0\", shape=(?, 25), dtype=float32)\n",
            "--------------------------------------------------\n",
            "Epoch:3 \t Validation Loss:1.59 \t validation accuracy=0.47\n",
            "--------------------------------------------------\n",
            "==================================================\n",
            "====== Epoch=4 =================================== \n",
            "==================================================\n",
            "iter 0: \t Loss=1.50 \t training accuracy=0.47 \n",
            "Tensor(\"Add_3:0\", shape=(?, 25), dtype=float32)\n",
            "iter 100: \t Loss=1.60 \t training accuracy=0.44 \n",
            "Tensor(\"Add_3:0\", shape=(?, 25), dtype=float32)\n",
            "--------------------------------------------------\n",
            "Epoch:4 \t Validation Loss:1.17 \t validation accuracy=0.59\n",
            "--------------------------------------------------\n",
            "==================================================\n",
            "====== Epoch=5 =================================== \n",
            "==================================================\n",
            "iter 0: \t Loss=1.05 \t training accuracy=0.69 \n",
            "Tensor(\"Add_3:0\", shape=(?, 25), dtype=float32)\n",
            "iter 100: \t Loss=1.00 \t training accuracy=0.65 \n",
            "Tensor(\"Add_3:0\", shape=(?, 25), dtype=float32)\n",
            "--------------------------------------------------\n",
            "Epoch:5 \t Validation Loss:0.87 \t validation accuracy=0.71\n",
            "--------------------------------------------------\n",
            "==================================================\n",
            "====== Epoch=6 =================================== \n",
            "==================================================\n",
            "iter 0: \t Loss=0.77 \t training accuracy=0.76 \n",
            "Tensor(\"Add_3:0\", shape=(?, 25), dtype=float32)\n",
            "iter 100: \t Loss=1.19 \t training accuracy=0.62 \n",
            "Tensor(\"Add_3:0\", shape=(?, 25), dtype=float32)\n",
            "--------------------------------------------------\n",
            "Epoch:6 \t Validation Loss:0.61 \t validation accuracy=0.80\n",
            "--------------------------------------------------\n",
            "==================================================\n",
            "====== Epoch=7 =================================== \n",
            "==================================================\n",
            "iter 0: \t Loss=0.51 \t training accuracy=0.82 \n",
            "Tensor(\"Add_3:0\", shape=(?, 25), dtype=float32)\n",
            "iter 100: \t Loss=0.50 \t training accuracy=0.84 \n",
            "Tensor(\"Add_3:0\", shape=(?, 25), dtype=float32)\n",
            "--------------------------------------------------\n",
            "Epoch:7 \t Validation Loss:0.45 \t validation accuracy=0.86\n",
            "--------------------------------------------------\n",
            "==================================================\n",
            "====== Epoch=8 =================================== \n",
            "==================================================\n",
            "iter 0: \t Loss=0.41 \t training accuracy=0.86 \n",
            "Tensor(\"Add_3:0\", shape=(?, 25), dtype=float32)\n",
            "iter 100: \t Loss=0.48 \t training accuracy=0.84 \n",
            "Tensor(\"Add_3:0\", shape=(?, 25), dtype=float32)\n",
            "--------------------------------------------------\n",
            "Epoch:8 \t Validation Loss:0.34 \t validation accuracy=0.90\n",
            "--------------------------------------------------\n",
            "==================================================\n",
            "====== Epoch=9 =================================== \n",
            "==================================================\n",
            "iter 0: \t Loss=0.26 \t training accuracy=0.94 \n",
            "Tensor(\"Add_3:0\", shape=(?, 25), dtype=float32)\n",
            "iter 100: \t Loss=0.29 \t training accuracy=0.94 \n",
            "Tensor(\"Add_3:0\", shape=(?, 25), dtype=float32)\n",
            "--------------------------------------------------\n",
            "Epoch:9 \t Validation Loss:0.24 \t validation accuracy=0.92\n",
            "--------------------------------------------------\n",
            "==================================================\n",
            "====== Epoch=10 =================================== \n",
            "==================================================\n",
            "iter 0: \t Loss=0.17 \t training accuracy=0.95 \n",
            "Tensor(\"Add_3:0\", shape=(?, 25), dtype=float32)\n",
            "iter 100: \t Loss=0.15 \t training accuracy=0.95 \n",
            "Tensor(\"Add_3:0\", shape=(?, 25), dtype=float32)\n",
            "--------------------------------------------------\n",
            "Epoch:10 \t Validation Loss:0.15 \t validation accuracy=0.96\n",
            "--------------------------------------------------\n",
            "==================================================\n",
            "====== Epoch=11 =================================== \n",
            "==================================================\n",
            "iter 0: \t Loss=0.10 \t training accuracy=0.98 \n",
            "Tensor(\"Add_3:0\", shape=(?, 25), dtype=float32)\n",
            "iter 100: \t Loss=0.09 \t training accuracy=0.98 \n",
            "Tensor(\"Add_3:0\", shape=(?, 25), dtype=float32)\n",
            "--------------------------------------------------\n",
            "Epoch:11 \t Validation Loss:0.12 \t validation accuracy=0.96\n",
            "--------------------------------------------------\n",
            "==================================================\n",
            "====== Epoch=12 =================================== \n",
            "==================================================\n",
            "iter 0: \t Loss=0.06 \t training accuracy=0.99 \n",
            "Tensor(\"Add_3:0\", shape=(?, 25), dtype=float32)\n",
            "iter 100: \t Loss=0.05 \t training accuracy=0.99 \n",
            "Tensor(\"Add_3:0\", shape=(?, 25), dtype=float32)\n",
            "--------------------------------------------------\n",
            "Epoch:12 \t Validation Loss:0.22 \t validation accuracy=0.92\n",
            "--------------------------------------------------\n",
            "==================================================\n",
            "====== Epoch=13 =================================== \n",
            "==================================================\n",
            "iter 0: \t Loss=0.10 \t training accuracy=0.98 \n",
            "Tensor(\"Add_3:0\", shape=(?, 25), dtype=float32)\n",
            "iter 100: \t Loss=0.05 \t training accuracy=1.00 \n",
            "Tensor(\"Add_3:0\", shape=(?, 25), dtype=float32)\n",
            "--------------------------------------------------\n",
            "Epoch:13 \t Validation Loss:0.12 \t validation accuracy=0.96\n",
            "--------------------------------------------------\n",
            "==================================================\n",
            "====== Epoch=14 =================================== \n",
            "==================================================\n",
            "iter 0: \t Loss=0.05 \t training accuracy=0.98 \n",
            "Tensor(\"Add_3:0\", shape=(?, 25), dtype=float32)\n",
            "iter 100: \t Loss=0.04 \t training accuracy=1.00 \n",
            "Tensor(\"Add_3:0\", shape=(?, 25), dtype=float32)\n",
            "--------------------------------------------------\n",
            "Epoch:14 \t Validation Loss:0.02 \t validation accuracy=1.00\n",
            "--------------------------------------------------\n",
            "==================================================\n",
            "====== Epoch=15 =================================== \n",
            "==================================================\n",
            "iter 0: \t Loss=0.01 \t training accuracy=1.00 \n",
            "Tensor(\"Add_3:0\", shape=(?, 25), dtype=float32)\n",
            "iter 100: \t Loss=0.01 \t training accuracy=1.00 \n",
            "Tensor(\"Add_3:0\", shape=(?, 25), dtype=float32)\n",
            "--------------------------------------------------\n",
            "Epoch:15 \t Validation Loss:0.01 \t validation accuracy=1.00\n",
            "--------------------------------------------------\n",
            "==================================================\n",
            "====== Epoch=16 =================================== \n",
            "==================================================\n",
            "iter 0: \t Loss=0.01 \t training accuracy=1.00 \n",
            "Tensor(\"Add_3:0\", shape=(?, 25), dtype=float32)\n",
            "iter 100: \t Loss=0.01 \t training accuracy=1.00 \n",
            "Tensor(\"Add_3:0\", shape=(?, 25), dtype=float32)\n",
            "--------------------------------------------------\n",
            "Epoch:16 \t Validation Loss:0.01 \t validation accuracy=1.00\n",
            "--------------------------------------------------\n"
          ]
        }
      ]
    },
    {
      "cell_type": "code",
      "metadata": {
        "colab": {
          "base_uri": "https://localhost:8080/",
          "height": 294
        },
        "id": "sarFs55-SCvF",
        "outputId": "51bcf2b0-143c-41b6-cc85-1164b18d99e4"
      },
      "source": [
        "plt.plot(range(epoch+1),plot_valid_loss,label='validation loss', color='b',LineWidth=3)\n",
        "plt.plot(range(epoch+1),plot_train_loss,label='train loss', color='r',LineWidth=3)\n",
        "plt.title(\"Change in Loss with adam optimizer with batch normalization\")\n",
        "plt.xlabel('epochs')\n",
        "plt.ylabel('loss')\n",
        "plt.legend()\n",
        "plt.grid()\n",
        "plt.show()"
      ],
      "id": "sarFs55-SCvF",
      "execution_count": null,
      "outputs": [
        {
          "output_type": "display_data",
          "data": {
            "image/png": "[encoded data removed]",
            "text/plain": [
              "<Figure size 432x288 with 1 Axes>"
            ]
          },
          "metadata": {
            "needs_background": "light"
          }
        }
      ]
    },
    {
      "cell_type": "code",
      "metadata": {
        "colab": {
          "base_uri": "https://localhost:8080/",
          "height": 294
        },
        "id": "7SRa0EScSMYd",
        "outputId": "799e4b5c-3e24-45b6-d335-3e3bc42bdc4a"
      },
      "source": [
        "plt.plot(range(epoch+1),plot_valid_accuracy,label='validation accuracy', color='b',LineWidth=3)\n",
        "plt.plot(range(epoch+1),plot_train_accuracy,label='train accuracy', color='r',LineWidth=3)\n",
        "plt.title(\"Change in accuracy with adam optimizer batch normalization\")\n",
        "plt.xlabel('epochs')\n",
        "plt.ylabel('accuracy')\n",
        "plt.legend()\n",
        "plt.grid()\n",
        "plt.show()"
      ],
      "id": "7SRa0EScSMYd",
      "execution_count": null,
      "outputs": [
        {
          "output_type": "display_data",
          "data": {
            "image/png": "[encoded data removed]",
            "text/plain": [
              "<Figure size 432x288 with 1 Axes>"
            ]
          },
          "metadata": {
            "needs_background": "light"
          }
        }
      ]
    },
    {
      "cell_type": "markdown",
      "metadata": {
        "id": "JAFgponL-HoJ"
      },
      "source": [
        "# confusion matrix"
      ],
      "id": "JAFgponL-HoJ"
    },
    {
      "cell_type": "code",
      "metadata": {
        "colab": {
          "base_uri": "https://localhost:8080/"
        },
        "id": "JXnkmNtWNuC5",
        "outputId": "f852056f-9011-4200-bbb6-cda9f0df6a22"
      },
      "source": [
        "# test ur network\n",
        "\n",
        "f={input_image:x_test , \n",
        "          output_image:y_test_hot}\n",
        "print(sess.run(loss,feed_dict=f))\n",
        "print(sess.run(accuracy,feed_dict=f))\n",
        "\n",
        "prediction=tf.argmax(tf.nn.softmax(H2),1)\n",
        "aa = prediction.eval(feed_dict={input_image: x_test}, session=sess)\n",
        "print (\"predictions :\", aa)\n",
        "\n",
        "from sklearn.metrics import ConfusionMatrixDisplay\n",
        "from sklearn.metrics import classification_report, confusion_matrix\n",
        "\n",
        "cm = confusion_matrix(aa,y_test,normalize = 'true')\n",
        "\n",
        "maxx = np.unravel_index(np.argmax(cm, axis=None), cm.shape) \n",
        "maxx = maxx[0]\n",
        "print(maxx)\n"
      ],
      "id": "JXnkmNtWNuC5",
      "execution_count": null,
      "outputs": [
        {
          "output_type": "stream",
          "name": "stdout",
          "text": [
            "0.98037905\n",
            "0.76728946\n",
            "predictions : [ 6  5 20 ...  2  4  2]\n",
            "13\n"
          ]
        }
      ]
    },
    {
      "cell_type": "code",
      "metadata": {
        "colab": {
          "base_uri": "https://localhost:8080/"
        },
        "id": "WPker-dndHn5",
        "outputId": "1d2c42d1-fafb-41a9-cc84-6a5795e07bf2"
      },
      "source": [
        "print(df1.shape[0])"
      ],
      "id": "WPker-dndHn5",
      "execution_count": null,
      "outputs": [
        {
          "output_type": "stream",
          "name": "stdout",
          "text": [
            "27455\n"
          ]
        }
      ]
    },
    {
      "cell_type": "code",
      "metadata": {
        "id": "cqAcBanhcmPk"
      },
      "source": [
        "my_list = []\n",
        "df = np.array(df1)\n",
        "for i in range(df1.shape[0]):\n",
        "  if df[i,0] == maxx:\n",
        "    my_list.append([])\n",
        "    \n",
        "\n",
        "#print(len(my_list))\n",
        "\n",
        "cnt = 0\n",
        "for j in range(df1.shape[0]):\n",
        "  if df[j,0] == maxx:\n",
        "   my_list[cnt] = df[j,:]/255\n",
        "   cnt+=1\n"
      ],
      "id": "cqAcBanhcmPk",
      "execution_count": null,
      "outputs": []
    },
    {
      "cell_type": "code",
      "metadata": {
        "id": "jAQDkZRrkL8e"
      },
      "source": [
        "# Down sampling\n",
        "gfg = np.random.uniform(0,1,math.floor(len(my_list)/5))\n",
        "\n",
        "# train again !!!!!!!!!!!!!!!!!!!!!     :)))))))))))))))))))\n",
        "\n",
        "\n"
      ],
      "id": "jAQDkZRrkL8e",
      "execution_count": null,
      "outputs": []
    },
    {
      "cell_type": "markdown",
      "metadata": {
        "id": "QopojWn-nPPe"
      },
      "source": [
        "# display cm matrix"
      ],
      "id": "QopojWn-nPPe"
    },
    {
      "cell_type": "code",
      "metadata": {
        "id": "T0Xakli5Yfjm"
      },
      "source": [
        "#disp = ConfusionMatrixDisplay( confusion_matrix=cm, display_labels=None)\n",
        "\n",
        "#fig, ax = plt.subplots(figsize=(12,12))\n",
        "#disp = disp.plot(ax=ax,cmap = plt.cm.Blues)\n",
        "#ax.set_title(\"confusion matrix\")\n",
        "#plt.show()"
      ],
      "id": "T0Xakli5Yfjm",
      "execution_count": null,
      "outputs": []
    },
    {
      "cell_type": "markdown",
      "metadata": {
        "id": "_SzD_03mG-s_"
      },
      "source": [
        "# 13. \n"
      ],
      "id": "_SzD_03mG-s_"
    },
    {
      "cell_type": "markdown",
      "metadata": {
        "id": "GBecDuAAHCtA"
      },
      "source": [
        "# 14. "
      ],
      "id": "GBecDuAAHCtA"
    },
    {
      "cell_type": "markdown",
      "metadata": {
        "id": "Jo55b_cxHKHC"
      },
      "source": [
        "photo capture"
      ],
      "id": "Jo55b_cxHKHC"
    },
    {
      "cell_type": "code",
      "metadata": {
        "id": "rgrHMjDUFTxf"
      },
      "source": [
        "from IPython.display import display, Javascript\n",
        "from google.colab.output import eval_js\n",
        "from base64 import b64decode\n",
        "\n",
        "def take_photo(filename='photo.jpg', quality=0.8):\n",
        "  js = Javascript('''\n",
        "    async function takePhoto(quality) {\n",
        "      const div = document.createElement('div');\n",
        "      const capture = document.createElement('button');\n",
        "      capture.textContent = 'Capture';\n",
        "      div.appendChild(capture);\n",
        "\n",
        "      const video = document.createElement('video');\n",
        "      video.style.display = 'block';\n",
        "      const stream = await navigator.mediaDevices.getUserMedia({video: true});\n",
        "\n",
        "      document.body.appendChild(div);\n",
        "      div.appendChild(video);\n",
        "      video.srcObject = stream;\n",
        "      await video.play();\n",
        "\n",
        "      // Resize the output to fit the video element.\n",
        "      google.colab.output.setIframeHeight(document.documentElement.scrollHeight, true);\n",
        "\n",
        "      // Wait for Capture to be clicked.\n",
        "      await new Promise((resolve) => capture.onclick = resolve);\n",
        "\n",
        "      const canvas = document.createElement('canvas');\n",
        "      canvas.width = video.videoWidth;\n",
        "      canvas.height = video.videoHeight;\n",
        "      canvas.getContext('2d').drawImage(video, 0, 0);\n",
        "      stream.getVideoTracks()[0].stop();\n",
        "      div.remove();\n",
        "      return canvas.toDataURL('image/jpeg', quality);\n",
        "    }\n",
        "    ''')\n",
        "  display(js)\n",
        "  data = eval_js('takePhoto({})'.format(quality))\n",
        "  binary = b64decode(data.split(',')[1])\n",
        "  with open(filename, 'wb') as f:\n",
        "    f.write(binary)\n",
        "  return filename"
      ],
      "id": "rgrHMjDUFTxf",
      "execution_count": null,
      "outputs": []
    },
    {
      "cell_type": "code",
      "metadata": {
        "colab": {
          "base_uri": "https://localhost:8080/",
          "height": 514
        },
        "id": "YuZNEYsKHOwY",
        "outputId": "8ded4ff4-e291-42d9-a021-fd329ed4942a"
      },
      "source": [
        "from IPython.display import Image\n",
        "try:\n",
        "  filename = take_photo()\n",
        "  print('Saved to {}'.format(filename))\n",
        "  \n",
        "  # Show the image which was just taken.\n",
        "  display(Image(filename))\n",
        "except Exception as err:\n",
        "  # Errors will be thrown if the user does not have a webcam or if they do not\n",
        "  # grant the page permission to access it.\n",
        "  print(str(err))"
      ],
      "id": "YuZNEYsKHOwY",
      "execution_count": null,
      "outputs": [
        {
          "output_type": "display_data",
          "data": {
            "application/javascript": [
              "\n",
              "    async function takePhoto(quality) {\n",
              "      const div = document.createElement('div');\n",
              "      const capture = document.createElement('button');\n",
              "      capture.textContent = 'Capture';\n",
              "      div.appendChild(capture);\n",
              "\n",
              "      const video = document.createElement('video');\n",
              "      video.style.display = 'block';\n",
              "      const stream = await navigator.mediaDevices.getUserMedia({video: true});\n",
              "\n",
              "      document.body.appendChild(div);\n",
              "      div.appendChild(video);\n",
              "      video.srcObject = stream;\n",
              "      await video.play();\n",
              "\n",
              "      // Resize the output to fit the video element.\n",
              "      google.colab.output.setIframeHeight(document.documentElement.scrollHeight, true);\n",
              "\n",
              "      // Wait for Capture to be clicked.\n",
              "      await new Promise((resolve) => capture.onclick = resolve);\n",
              "\n",
              "      const canvas = document.createElement('canvas');\n",
              "      canvas.width = video.videoWidth;\n",
              "      canvas.height = video.videoHeight;\n",
              "      canvas.getContext('2d').drawImage(video, 0, 0);\n",
              "      stream.getVideoTracks()[0].stop();\n",
              "      div.remove();\n",
              "      return canvas.toDataURL('image/jpeg', quality);\n",
              "    }\n",
              "    "
            ],
            "text/plain": [
              "<IPython.core.display.Javascript object>"
            ]
          },
          "metadata": {}
        },
        {
          "output_type": "stream",
          "name": "stdout",
          "text": [
            "Saved to photo.jpg\n"
          ]
        },
        {
          "output_type": "display_data",
          "data": {
            "image/jpeg": "[encoded data removed]",
            "text/plain": [
              "<IPython.core.display.Image object>"
            ]
          },
          "metadata": {}
        }
      ]
    },
    {
      "cell_type": "code",
      "metadata": {
        "id": "O8pC2sZXHRW4",
        "colab": {
          "base_uri": "https://localhost:8080/",
          "height": 496
        },
        "outputId": "336eb79d-ce5e-4aaa-eb7b-6093b8e724d1"
      },
      "source": [
        "from PIL import Image\n",
        "\n",
        "img = Image.open('photo.jpg')\n",
        "imgGray = img.convert('L')\n",
        "imgGray.save('test.jpg')\n",
        "display(imgGray)"
      ],
      "id": "O8pC2sZXHRW4",
      "execution_count": null,
      "outputs": [
        {
          "output_type": "display_data",
          "data": {
            "image/png": "[encoded data removed]",
            "text/plain": [
              "<PIL.Image.Image image mode=L size=640x480 at 0x7FAD4C5F3410>"
            ]
          },
          "metadata": {}
        }
      ]
    },
    {
      "cell_type": "code",
      "metadata": {
        "id": "MqNE3g91HZTH",
        "colab": {
          "base_uri": "https://localhost:8080/"
        },
        "outputId": "0f1b4c6d-48a3-434d-dddb-be610a47910c"
      },
      "source": [
        "import cv2\n",
        "img=cv2.imread('test.jpg',cv2.IMREAD_UNCHANGED)\n",
        "img= cv2.resize(img,(28,28))\n",
        "\n",
        "img = img.reshape((1,784))/255\n",
        "print(img.shape)"
      ],
      "id": "MqNE3g91HZTH",
      "execution_count": null,
      "outputs": [
        {
          "output_type": "stream",
          "name": "stdout",
          "text": [
            "(1, 784)\n"
          ]
        }
      ]
    },
    {
      "cell_type": "code",
      "metadata": {
        "colab": {
          "base_uri": "https://localhost:8080/"
        },
        "id": "Ie7PORftH3Xo",
        "outputId": "88a9d095-a899-4807-9df2-c7382be043bf"
      },
      "source": [
        "prediction=tf.argmax(tf.nn.softmax(H2),1)\n",
        "aa = prediction.eval(feed_dict={input_image: img}, session=sess)\n",
        "print (\"predictions :\", aa)\n"
      ],
      "id": "Ie7PORftH3Xo",
      "execution_count": null,
      "outputs": [
        {
          "output_type": "stream",
          "name": "stdout",
          "text": [
            "predictions : [1]\n"
          ]
        }
      ]
    }
  ]
}